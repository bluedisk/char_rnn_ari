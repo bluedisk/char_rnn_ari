{
 "cells": [
  {
   "cell_type": "code",
   "execution_count": null,
   "metadata": {},
   "outputs": [],
   "source": [
    "#-*- coding: utf-8 -*-\n",
    "\n",
    "from __future__ import print_function\n",
    "from __future__ import unicode_literals\n",
    "\n",
    "import tensorflow as tf\n",
    "from tqdm import trange\n",
    "\n",
    "from model import KoreanCharacterRNN\n",
    "from data_loader import TextLoader\n",
    "\n",
    "print(tf.__version__)"
   ]
  },
  {
   "cell_type": "markdown",
   "metadata": {},
   "source": [
    "# Text Loader"
   ]
  },
  {
   "cell_type": "code",
   "execution_count": null,
   "metadata": {},
   "outputs": [],
   "source": [
    "# Load text \n",
    "data_loader = TextLoader()\n",
    "print(\"Done\")"
   ]
  },
  {
   "cell_type": "markdown",
   "metadata": {},
   "source": [
    "# Build Network"
   ]
  },
  {
   "cell_type": "code",
   "execution_count": null,
   "metadata": {},
   "outputs": [],
   "source": [
    "LEARNING_RATE = 0.002\n",
    "DECAY_STEP = data_loader.num_batches\n",
    "DECAY_RATE = 0.97\n",
    "\n",
    "net = KoreanCharacterRNN(tf, data_loader, LEARNING_RATE, DECAY_STEP, DECAY_RATE)\n",
    "print(\"Network Ready\")"
   ]
  },
  {
   "cell_type": "markdown",
   "metadata": {},
   "source": [
    "# Training"
   ]
  },
  {
   "cell_type": "code",
   "execution_count": null,
   "metadata": {},
   "outputs": [],
   "source": [
    "# Train the model!\n",
    "\n",
    "NUM_EPOCHS = 50\n",
    "SAVE_EVERY = 1000\n",
    "\n",
    "for e in trange(NUM_EPOCHS):  # for all epochs\n",
    "\n",
    "    data_loader.reset_batch_pointer()\n",
    "    \n",
    "    state = net.get_state()\n",
    "    for b in range(data_loader.num_batches):\n",
    "        \n",
    "        step = e * data_loader.num_batches + b\n",
    "        x, y = data_loader.next_batch()\n",
    "        \n",
    "        # Train!\n",
    "        train_loss, state = net.train(x, y, state, step)\n",
    "        \n",
    "        if b % 100 == 0:\n",
    "            print(\"{}/{} (epoch {}), train_loss = {:.8f}\".format(\n",
    "                step,\n",
    "                NUM_EPOCHS * data_loader.num_batches,\n",
    "                e, train_loss))\n",
    "\n",
    "        if step % SAVE_EVERY == 0:\n",
    "            net.save(step=step)\n",
    "\n"
   ]
  },
  {
   "cell_type": "code",
   "execution_count": null,
   "metadata": {},
   "outputs": [],
   "source": []
  }
 ],
 "metadata": {
  "kernelspec": {
   "display_name": "Python 3",
   "language": "python",
   "name": "python3"
  },
  "language_info": {
   "codemirror_mode": {
    "name": "ipython",
    "version": 3
   },
   "file_extension": ".py",
   "mimetype": "text/x-python",
   "name": "python",
   "nbconvert_exporter": "python",
   "pygments_lexer": "ipython3"
  }
 },
 "nbformat": 4,
 "nbformat_minor": 1
}
