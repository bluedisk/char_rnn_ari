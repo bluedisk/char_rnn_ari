{
 "cells": [
  {
   "cell_type": "code",
   "execution_count": null,
   "metadata": {},
   "outputs": [],
   "source": [
    "#-*- coding: utf-8 -*-\n",
    "\n",
    "from __future__ import print_function\n",
    "from __future__ import unicode_literals\n",
    "\n",
    "import tensorflow as tf\n",
    "\n",
    "from model import KoreanCharacterRNN\n",
    "from data_loader import TextLoader\n",
    "\n",
    "import hgtk\n",
    "\n",
    "print(tf.__version__)"
   ]
  },
  {
   "cell_type": "markdown",
   "metadata": {},
   "source": [
    "# Text Loader"
   ]
  },
  {
   "cell_type": "code",
   "execution_count": null,
   "metadata": {},
   "outputs": [],
   "source": [
    "# Load text \n",
    "data_loader = TextLoader(1,1) # disable batch for sampling\n",
    "print(\"Done\")\n"
   ]
  },
  {
   "cell_type": "markdown",
   "metadata": {},
   "source": [
    "# Build Network"
   ]
  },
  {
   "cell_type": "code",
   "execution_count": null,
   "metadata": {},
   "outputs": [],
   "source": [
    "net = KoreanCharacterRNN(tf, data_loader)\n",
    "print(\"Network Ready\")"
   ]
  },
  {
   "cell_type": "markdown",
   "metadata": {},
   "source": [
    "# Sampling"
   ]
  },
  {
   "cell_type": "code",
   "execution_count": null,
   "metadata": {},
   "outputs": [],
   "source": [
    "PRIME_TEXT = '세상은'\n",
    "SAMPLE_SIZE = 1000\n",
    "\n",
    "print(\"Prime Text : %s\" % PRIME_TEXT)\n",
    "\n",
    "if net.restore():\n",
    "    sampled_text = net.sample(SAMPLE_SIZE, PRIME_TEXT)\n",
    "    \n",
    "    print(\"\")\n",
    "    print(u\"SAMPLED TEXT = %s\" % sampled_text)\n",
    "\n",
    "    print(\"\")\n",
    "    print(\"-- RESULT --\")\n",
    "    print(hgtk.text.compose(\"\".join(sampled_text)))"
   ]
  }
 ],
 "metadata": {
  "kernelspec": {
   "display_name": "Python 3",
   "language": "python",
   "name": "python3"
  },
  "language_info": {
   "codemirror_mode": {
    "name": "ipython",
    "version": 3
   },
   "file_extension": ".py",
   "mimetype": "text/x-python",
   "name": "python",
   "nbconvert_exporter": "python",
   "pygments_lexer": "ipython3"
  }
 },
 "nbformat": 4,
 "nbformat_minor": 1
}
